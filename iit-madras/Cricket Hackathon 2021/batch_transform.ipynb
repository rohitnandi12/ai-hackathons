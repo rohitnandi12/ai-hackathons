{
 "cells": [
  {
   "cell_type": "code",
   "execution_count": 356,
   "metadata": {},
   "outputs": [],
   "source": [
    "import pandas as pd\n",
    "import numpy as np\n",
    "import plotly\n",
    "import plotly.graph_objects as go"
   ]
  },
  {
   "cell_type": "code",
   "execution_count": null,
   "metadata": {},
   "outputs": [],
   "source": [
    "def rolling_window(all_overs):\n",
    "    batsman = []\n",
    "    window = 0\n",
    "    start = 0\n",
    "    for index in range(0, len(all_overs)):\n",
    "    #     print(index, \" : \", type())\n",
    "        v = set()\n",
    "        if(window >= 5):\n",
    "            start = index - 5\n",
    "            for i in range(start, index+1):\n",
    "                v.update(all_overs[i])\n",
    "        else:\n",
    "            window += 1\n",
    "            v = np.nan\n",
    "        batsman.append(v)\n",
    "    return batsman"
   ]
  },
  {
   "cell_type": "code",
   "execution_count": 357,
   "metadata": {},
   "outputs": [],
   "source": [
    "def transformFile(filename):\n",
    "    df_raw = pd.read_csv('dataset/individual_match/'+filename)\n",
    "    df = df_raw[['match_id', 'venue', 'innings', 'batting_team', 'bowling_team', 'ball', 'striker', 'non_striker', \n",
    "         'bowler', 'runs_off_bat', 'extras']].copy()\n",
    "    \n",
    "    #Score\n",
    "    df['score'] = df['runs_off_bat'] + df['extras']\n",
    "    #Over\n",
    "    df['over'] = df['ball'].map(np.floor).round(0).astype('int')\n",
    "    \n",
    "    feats = ['match_id','venue', 'innings', 'batting_team', 'bowling_team', 'over'] \n",
    "\n",
    "    # Innings 1\n",
    "    innings1 = df[df['innings'] == 1]\n",
    "    batsmen_per_over = innings1.groupby(feats)['striker', 'non_striker'].apply(lambda x: set(np.unique(x)))\n",
    "    bowlers_per_over = innings1.groupby(feats)['bowler'].apply(lambda x: set(np.unique(x)))\n",
    "    runs = innings1.groupby(feats)['score'].sum().cumsum()\n",
    "\n",
    "    fd_inn1 = pd.DataFrame({\n",
    "        'batsmen':rolling_window(batsmen_per_over),\n",
    "        'bowlers':rolling_window(bowlers_per_over),\n",
    "        'runs': runs}).reset_index()\n",
    "        \n",
    "    # Innings 2    \n",
    "    innings2 = df[df['innings'] == 2]\n",
    "    batsmen_per_over = innings2.groupby(feats)['striker', 'non_striker'].apply(lambda x: set(np.unique(x)))\n",
    "    bowlers_per_over = innings2.groupby(feats)['bowler'].apply(lambda x: set(np.unique(x)))\n",
    "    runs = innings2.groupby(feats)['score'].sum().cumsum()\n",
    "    \n",
    "    fd_inn2 = pd.DataFrame({\n",
    "        'batsmen':rolling_window(batsmen_per_over),\n",
    "        'bowlers':rolling_window(bowlers_per_over),\n",
    "        'runs': runs}).reset_index()\n",
    "    \n",
    "    fd_inn1.append(fd_inn2, ignore_index = True)\n",
    "    fd_inn1.to_csv('dataset/individual_match_mod/mod_'+filename)\n",
    "    \n",
    "    "
   ]
  }
 ],
 "metadata": {
  "kernelspec": {
   "display_name": "Python 3",
   "language": "python",
   "name": "python3"
  },
  "language_info": {
   "codemirror_mode": {
    "name": "ipython",
    "version": 3
   },
   "file_extension": ".py",
   "mimetype": "text/x-python",
   "name": "python",
   "nbconvert_exporter": "python",
   "pygments_lexer": "ipython3",
   "version": "3.7.4"
  }
 },
 "nbformat": 4,
 "nbformat_minor": 2
}
