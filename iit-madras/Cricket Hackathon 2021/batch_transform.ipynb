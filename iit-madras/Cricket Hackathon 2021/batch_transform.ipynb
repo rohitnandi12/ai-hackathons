{
 "cells": [
  {
   "cell_type": "code",
   "execution_count": 1,
   "metadata": {},
   "outputs": [],
   "source": [
    "import pandas as pd\n",
    "import numpy as np\n",
    "import plotly\n",
    "import plotly.graph_objects as go"
   ]
  },
  {
   "cell_type": "code",
   "execution_count": 2,
   "metadata": {},
   "outputs": [],
   "source": [
    "def rolling_window(all_overs):\n",
    "    batsman = []\n",
    "    window = 0\n",
    "    start = 0\n",
    "    for index in range(0, len(all_overs)):\n",
    "    #     print(index, \" : \", type())\n",
    "        v = set()\n",
    "        if(window >= 5):\n",
    "            start = index - 5\n",
    "            for i in range(start, index+1):\n",
    "                v.update(all_overs[i])\n",
    "            batsman.append(\",\".join(list(v)))\n",
    "        else:\n",
    "            window += 1\n",
    "            v = np.nan\n",
    "            batsman.append(v)\n",
    "    return batsman"
   ]
  },
  {
   "cell_type": "code",
   "execution_count": 3,
   "metadata": {},
   "outputs": [],
   "source": [
    "def value_consistency(col, existing_values, unik_value, data):\n",
    "    mask = data[col].isin(existing_values)\n",
    "    #update\n",
    "    data.loc[(mask), col] = unik_value\n"
   ]
  },
  {
   "cell_type": "code",
   "execution_count": 4,
   "metadata": {},
   "outputs": [],
   "source": [
    "def clean_df(df_raw):\n",
    "    # Venue\n",
    "    value_consistency('venue',['M Chinnaswamy Stadium', 'M.Chinnaswamy Stadium'], 'M Chinnaswamy Stadium', df_raw)\n",
    "    value_consistency('venue',['MA Chidambaram Stadium', 'MA Chidambaram Stadium, Chepauk',\n",
    "                                 'MA Chidambaram Stadium, Chepauk, Chennai'], 'MA Chidambaram Stadium, Chepauk', df_raw)\n",
    "    value_consistency('venue',['Punjab Cricket Association IS Bindra Stadium',\n",
    "           'Punjab Cricket Association IS Bindra Stadium, Mohali',\n",
    "           'Punjab Cricket Association Stadium, Mohali'], 'Punjab Cricket Association Stadium, Mohali', df_raw)\n",
    "    value_consistency('venue',['Rajiv Gandhi International Stadium',\n",
    "           'Rajiv Gandhi International Stadium, Uppal'], 'Rajiv Gandhi International Stadium, Uppal', df_raw)\n",
    "    value_consistency('venue',['Wankhede Stadium', 'Wankhede Stadium, Mumbai'], 'Wankhede Stadium', df_raw)\n",
    "    \n",
    "    df_raw.season = df_raw.season.map(str)\n",
    "    \n",
    "    value_consistency('batting_team', ['Delhi Capitals', 'Delhi Daredevils'], 'Delhi Capitals', df_raw)\n",
    "    value_consistency('batting_team', ['Pune Warriors','Rising Pune Supergiant', 'Rising Pune Supergiants'], 'Rising Pune Supergiant', df_raw)\n",
    "\n",
    "    value_consistency('bowling_team', ['Delhi Capitals', 'Delhi Daredevils'], 'Delhi Capitals', df_raw)\n",
    "    value_consistency('bowling_team', ['Pune Warriors','Rising Pune Supergiant', 'Rising Pune Supergiants'], 'Rising Pune Supergiant', df_raw)\n",
    "    \n",
    "    "
   ]
  },
  {
   "cell_type": "code",
   "execution_count": 5,
   "metadata": {},
   "outputs": [],
   "source": [
    "def transformFile(filename):\n",
    "    df_raw = pd.read_csv('dataset/individual_match/'+filename)\n",
    "    \n",
    "    # Clean\n",
    "    clean_df(df_raw)\n",
    "    \n",
    "    df = df_raw[['match_id', 'venue', 'innings', 'batting_team', 'bowling_team', 'ball', 'striker', 'non_striker', \n",
    "         'bowler', 'runs_off_bat', 'extras']].copy()\n",
    "    \n",
    "    #Score\n",
    "    df['score'] = df['runs_off_bat'] + df['extras']\n",
    "    #Over\n",
    "    df['over'] = df['ball'].map(np.floor).round(0).astype('int')\n",
    "    \n",
    "    feats = ['match_id','over','venue', 'innings', 'batting_team', 'bowling_team'] \n",
    "\n",
    "    # Innings 1\n",
    "    innings1 = df[df['innings'] == 1]\n",
    "    batsmen_per_over = innings1.groupby(feats)['striker', 'non_striker'].apply(lambda x: set(np.unique(x)))\n",
    "    bowlers_per_over = innings1.groupby(feats)['bowler'].apply(lambda x: set(np.unique(x)))\n",
    "    runs = innings1.groupby(feats)['score'].sum().rolling(6).sum()\n",
    "\n",
    "    fd_inn1 = pd.DataFrame({\n",
    "        'batsmen':rolling_window(batsmen_per_over),\n",
    "        'bowlers':rolling_window(bowlers_per_over),\n",
    "        'runs': runs}).reset_index()\n",
    "        \n",
    "    # Innings 2    \n",
    "    innings2 = df[df['innings'] == 2]\n",
    "    batsmen_per_over = innings2.groupby(feats)['striker', 'non_striker'].apply(lambda x: set(np.unique(x)))\n",
    "    bowlers_per_over = innings2.groupby(feats)['bowler'].apply(lambda x: set(np.unique(x)))\n",
    "    runs = innings2.groupby(feats)['score'].sum().rolling(6).sum()\n",
    "    \n",
    "    \n",
    "    fd_inn2 = pd.DataFrame({\n",
    "        'batsmen':rolling_window(batsmen_per_over),\n",
    "        'bowlers':rolling_window(bowlers_per_over),\n",
    "        'runs': runs}).reset_index()\n",
    "    \n",
    "    fd_inn1 = fd_inn1.append(fd_inn2, ignore_index = True)\n",
    "    fd_inn1.to_csv('dataset/individual_match_mod/mod_'+filename, sep='\\t', index=False, na_rep=\"NaN\")\n",
    "    return fd_inn1\n",
    "    \n",
    "    "
   ]
  },
  {
   "cell_type": "markdown",
   "metadata": {},
   "source": [
    "## Actual Transformation"
   ]
  },
  {
   "cell_type": "code",
   "execution_count": 7,
   "metadata": {},
   "outputs": [
    {
     "name": "stdout",
     "output_type": "stream",
     "text": [
      "Total files failed  0\n"
     ]
    }
   ],
   "source": [
    "assert False\n",
    "import os\n",
    "input_files = os.listdir('dataset/individual_match')\n",
    "count = 0\n",
    "for fileName in input_files:\n",
    "    try:\n",
    "        fo = transformFile(fileName)\n",
    "        f_reload = pd.read_csv('dataset/individual_match_mod/mod_'+fileName, delimiter='\\t')\n",
    "    except RuntimeError as e:\n",
    "        print(e)\n",
    "        count += 1\n",
    "print(\"Total files failed \", count)"
   ]
  },
  {
   "cell_type": "markdown",
   "metadata": {},
   "source": [
    "### Merge all into One"
   ]
  },
  {
   "cell_type": "code",
   "execution_count": 8,
   "metadata": {},
   "outputs": [
    {
     "name": "stdout",
     "output_type": "stream",
     "text": [
      "(31481, 9)\n"
     ]
    }
   ],
   "source": [
    "assert(False)\n",
    "import os\n",
    "\n",
    "mod_files = os.listdir('dataset/individual_match_mod')\n",
    "li = []\n",
    "for filename in mod_files:\n",
    "\n",
    "    df = pd.read_csv('dataset/individual_match_mod/'+filename, delimiter='\\t', index_col=None, header=0)\n",
    "    li.append(df)\n",
    "\n",
    "frame = pd.concat(li, axis=0, ignore_index=True)\n",
    "print(frame.shape)"
   ]
  },
  {
   "cell_type": "code",
   "execution_count": 9,
   "metadata": {},
   "outputs": [],
   "source": [
    "frame.to_csv('dataset/mod_all_matches.csv', sep='\\t', index=False, na_rep=\"NaN\")"
   ]
  },
  {
   "cell_type": "markdown",
   "metadata": {},
   "source": [
    "## Validation"
   ]
  },
  {
   "cell_type": "code",
   "execution_count": 10,
   "metadata": {},
   "outputs": [
    {
     "name": "stdout",
     "output_type": "stream",
     "text": [
      "[829763.] 5\n",
      "[501265.] 5\n",
      "[1178424] 9\n",
      "[829813] 7\n",
      "815\n",
      "4\n"
     ]
    }
   ],
   "source": [
    "mod_files = os.listdir('dataset/individual_match_mod')\n",
    "li = []\n",
    "no_of_10 = 0\n",
    "less_than_10 = 0\n",
    "for filename in mod_files:\n",
    "\n",
    "    df = pd.read_csv('dataset/individual_match_mod/'+filename, delimiter='\\t', index_col=None, header=0)\n",
    "#     li.append(df)\n",
    "    if(df['runs'].isnull().sum()<10):\n",
    "        less_than_10 += 1\n",
    "        print(df['match_id'].unique(), df['runs'].isnull().sum())\n",
    "    else:\n",
    "        no_of_10 += 1\n",
    "        \n",
    "print(no_of_10)\n",
    "print(less_than_10)\n",
    "# frame = pd.concat(li, axis=0, ignore_index=True)"
   ]
  },
  {
   "cell_type": "code",
   "execution_count": null,
   "metadata": {},
   "outputs": [],
   "source": []
  }
 ],
 "metadata": {
  "kernelspec": {
   "display_name": "Python 3",
   "language": "python",
   "name": "python3"
  },
  "language_info": {
   "codemirror_mode": {
    "name": "ipython",
    "version": 3
   },
   "file_extension": ".py",
   "mimetype": "text/x-python",
   "name": "python",
   "nbconvert_exporter": "python",
   "pygments_lexer": "ipython3",
   "version": "3.7.4"
  }
 },
 "nbformat": 4,
 "nbformat_minor": 2
}
