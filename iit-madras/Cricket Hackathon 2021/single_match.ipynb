{
 "cells": [
  {
   "cell_type": "code",
   "execution_count": 356,
   "metadata": {},
   "outputs": [],
   "source": [
    "import pandas as pd\n",
    "import numpy as np\n",
    "import plotly\n",
    "import plotly.graph_objects as go"
   ]
  },
  {
   "cell_type": "code",
   "execution_count": 357,
   "metadata": {},
   "outputs": [],
   "source": [
    "df_raw = pd.read_csv('dataset/individual_match/1254060.csv')"
   ]
  },
  {
   "cell_type": "code",
   "execution_count": 358,
   "metadata": {},
   "outputs": [],
   "source": [
    "df = df_raw[['match_id', 'venue', 'innings', 'batting_team', 'bowling_team', 'ball', 'striker', 'non_striker', \n",
    "         'bowler', 'runs_off_bat', 'extras']].copy()"
   ]
  },
  {
   "cell_type": "code",
   "execution_count": 359,
   "metadata": {},
   "outputs": [],
   "source": [
    "df['score'] = df['runs_off_bat'] + df['extras']"
   ]
  },
  {
   "cell_type": "code",
   "execution_count": 360,
   "metadata": {},
   "outputs": [],
   "source": [
    "df['over'] = df['ball'].map(np.floor).round(0).astype('int')"
   ]
  },
  {
   "cell_type": "code",
   "execution_count": 361,
   "metadata": {},
   "outputs": [],
   "source": [
    "innings1 = df[df['innings'] == 1]\n",
    "innings2 = df[df['innings'] == 2]"
   ]
  },
  {
   "cell_type": "code",
   "execution_count": 365,
   "metadata": {},
   "outputs": [],
   "source": [
    "def rolling_window(all_overs):\n",
    "    batsman = []\n",
    "    window = 0\n",
    "    start = 0\n",
    "    for index in range(0, len(all_overs)):\n",
    "    #     print(index, \" : \", type())\n",
    "        v = set()\n",
    "        if(window >= 5):\n",
    "            start = index - 5\n",
    "            for i in range(start, index+1):\n",
    "                v.update(all_overs[i])\n",
    "        else:\n",
    "            window += 1\n",
    "            v = np.nan\n",
    "        batsman.append(v)\n",
    "    return batsman\n",
    "    #     print(start, index, batsman)"
   ]
  },
  {
   "cell_type": "code",
   "execution_count": 366,
   "metadata": {},
   "outputs": [],
   "source": [
    "feats = ['match_id','venue', 'innings', 'batting_team', 'bowling_team', 'over'] \n",
    "\n",
    "batsmen_per_over = innings1.groupby(feats)['striker', 'non_striker'].apply(lambda x: set(np.unique(x)))\n",
    "\n",
    "bowlers_per_over = innings1.groupby(feats)['bowler'].apply(lambda x: set(np.unique(x)))\n",
    "\n",
    "runs = innings1.groupby(feats)['score'].sum().cumsum()"
   ]
  },
  {
   "cell_type": "code",
   "execution_count": 367,
   "metadata": {
    "collapsed": true
   },
   "outputs": [
    {
     "name": "stdout",
     "output_type": "stream",
     "text": [
      "    match_id                                     venue  innings  \\\n",
      "0    1254060  MA Chidambaram Stadium, Chepauk, Chennai        1   \n",
      "1    1254060  MA Chidambaram Stadium, Chepauk, Chennai        1   \n",
      "2    1254060  MA Chidambaram Stadium, Chepauk, Chennai        1   \n",
      "3    1254060  MA Chidambaram Stadium, Chepauk, Chennai        1   \n",
      "4    1254060  MA Chidambaram Stadium, Chepauk, Chennai        1   \n",
      "5    1254060  MA Chidambaram Stadium, Chepauk, Chennai        1   \n",
      "6    1254060  MA Chidambaram Stadium, Chepauk, Chennai        1   \n",
      "7    1254060  MA Chidambaram Stadium, Chepauk, Chennai        1   \n",
      "8    1254060  MA Chidambaram Stadium, Chepauk, Chennai        1   \n",
      "9    1254060  MA Chidambaram Stadium, Chepauk, Chennai        1   \n",
      "10   1254060  MA Chidambaram Stadium, Chepauk, Chennai        1   \n",
      "11   1254060  MA Chidambaram Stadium, Chepauk, Chennai        1   \n",
      "12   1254060  MA Chidambaram Stadium, Chepauk, Chennai        1   \n",
      "13   1254060  MA Chidambaram Stadium, Chepauk, Chennai        1   \n",
      "14   1254060  MA Chidambaram Stadium, Chepauk, Chennai        1   \n",
      "15   1254060  MA Chidambaram Stadium, Chepauk, Chennai        1   \n",
      "16   1254060  MA Chidambaram Stadium, Chepauk, Chennai        1   \n",
      "17   1254060  MA Chidambaram Stadium, Chepauk, Chennai        1   \n",
      "18   1254060  MA Chidambaram Stadium, Chepauk, Chennai        1   \n",
      "19   1254060  MA Chidambaram Stadium, Chepauk, Chennai        1   \n",
      "\n",
      "             batting_team         bowling_team  over  \\\n",
      "0   Kolkata Knight Riders  Sunrisers Hyderabad     0   \n",
      "1   Kolkata Knight Riders  Sunrisers Hyderabad     1   \n",
      "2   Kolkata Knight Riders  Sunrisers Hyderabad     2   \n",
      "3   Kolkata Knight Riders  Sunrisers Hyderabad     3   \n",
      "4   Kolkata Knight Riders  Sunrisers Hyderabad     4   \n",
      "5   Kolkata Knight Riders  Sunrisers Hyderabad     5   \n",
      "6   Kolkata Knight Riders  Sunrisers Hyderabad     6   \n",
      "7   Kolkata Knight Riders  Sunrisers Hyderabad     7   \n",
      "8   Kolkata Knight Riders  Sunrisers Hyderabad     8   \n",
      "9   Kolkata Knight Riders  Sunrisers Hyderabad     9   \n",
      "10  Kolkata Knight Riders  Sunrisers Hyderabad    10   \n",
      "11  Kolkata Knight Riders  Sunrisers Hyderabad    11   \n",
      "12  Kolkata Knight Riders  Sunrisers Hyderabad    12   \n",
      "13  Kolkata Knight Riders  Sunrisers Hyderabad    13   \n",
      "14  Kolkata Knight Riders  Sunrisers Hyderabad    14   \n",
      "15  Kolkata Knight Riders  Sunrisers Hyderabad    15   \n",
      "16  Kolkata Knight Riders  Sunrisers Hyderabad    16   \n",
      "17  Kolkata Knight Riders  Sunrisers Hyderabad    17   \n",
      "18  Kolkata Knight Riders  Sunrisers Hyderabad    18   \n",
      "19  Kolkata Knight Riders  Sunrisers Hyderabad    19   \n",
      "\n",
      "                                              batsmen  \\\n",
      "0                                                 NaN   \n",
      "1                                                 NaN   \n",
      "2                                                 NaN   \n",
      "3                                                 NaN   \n",
      "4                                                 NaN   \n",
      "5                              {Shubman Gill, N Rana}   \n",
      "6                              {Shubman Gill, N Rana}   \n",
      "7                 {Shubman Gill, N Rana, RA Tripathi}   \n",
      "8                 {Shubman Gill, N Rana, RA Tripathi}   \n",
      "9                 {Shubman Gill, N Rana, RA Tripathi}   \n",
      "10                {Shubman Gill, N Rana, RA Tripathi}   \n",
      "11                {Shubman Gill, N Rana, RA Tripathi}   \n",
      "12                              {N Rana, RA Tripathi}   \n",
      "13                              {N Rana, RA Tripathi}   \n",
      "14                              {N Rana, RA Tripathi}   \n",
      "15                  {AD Russell, N Rana, RA Tripathi}   \n",
      "16      {EJG Morgan, AD Russell, N Rana, RA Tripathi}   \n",
      "17  {EJG Morgan, KD Karthik, AD Russell, Shakib Al...   \n",
      "18  {EJG Morgan, KD Karthik, AD Russell, Shakib Al...   \n",
      "19  {EJG Morgan, KD Karthik, AD Russell, Shakib Al...   \n",
      "\n",
      "                                              bowlers  runs  \n",
      "0                                                 NaN     4  \n",
      "1                                                 NaN    13  \n",
      "2                                                 NaN    19  \n",
      "3                                                 NaN    33  \n",
      "4                                                 NaN    45  \n",
      "5   {B Kumar, T Natarajan, Mohammad Nabi, Sandeep ...    50  \n",
      "6   {Rashid Khan, T Natarajan, Mohammad Nabi, Sand...    53  \n",
      "7   {Rashid Khan, T Natarajan, Mohammad Nabi, Sand...    64  \n",
      "8   {Rashid Khan, T Natarajan, Mohammad Nabi, Sand...    69  \n",
      "9   {Rashid Khan, V Shankar, T Natarajan, Mohammad...    83  \n",
      "10  {Rashid Khan, V Shankar, Mohammad Nabi, T Nata...    92  \n",
      "11  {Rashid Khan, V Shankar, Mohammad Nabi, T Nata...   105  \n",
      "12  {Rashid Khan, V Shankar, Mohammad Nabi, T Nata...   114  \n",
      "13  {Rashid Khan, V Shankar, T Natarajan, Mohammad...   126  \n",
      "14  {Rashid Khan, V Shankar, T Natarajan, Mohammad...   145  \n",
      "15  {Rashid Khan, T Natarajan, Mohammad Nabi, Sand...   152  \n",
      "16  {Rashid Khan, Mohammad Nabi, T Natarajan, Sand...   159  \n",
      "17  {Rashid Khan, T Natarajan, Mohammad Nabi, Sand...   162  \n",
      "18  {Rashid Khan, T Natarajan, Mohammad Nabi, Sand...   171  \n",
      "19  {Rashid Khan, T Natarajan, Mohammad Nabi, B Ku...   187  \n"
     ]
    }
   ],
   "source": [
    "fd_inn1 = pd.DataFrame({\n",
    "    'batsmen':rolling_window(batsmen_per_over),\n",
    "    'bowlers':rolling_window(bowlers_per_over),\n",
    "    'runs': runs}).reset_index()\n",
    "print(fd_inn1)"
   ]
  },
  {
   "cell_type": "code",
   "execution_count": 370,
   "metadata": {},
   "outputs": [
    {
     "data": {
      "text/plain": [
       "array([nan, nan, nan, nan, nan,\n",
       "       {'B Kumar', 'T Natarajan', 'Mohammad Nabi', 'Sandeep Sharma'},\n",
       "       {'Rashid Khan', 'T Natarajan', 'Mohammad Nabi', 'Sandeep Sharma', 'B Kumar'},\n",
       "       {'Rashid Khan', 'T Natarajan', 'Mohammad Nabi', 'Sandeep Sharma', 'B Kumar'},\n",
       "       {'Rashid Khan', 'T Natarajan', 'Mohammad Nabi', 'Sandeep Sharma'},\n",
       "       {'Rashid Khan', 'V Shankar', 'T Natarajan', 'Mohammad Nabi'},\n",
       "       {'Rashid Khan', 'V Shankar', 'Mohammad Nabi', 'T Natarajan'},\n",
       "       {'Rashid Khan', 'V Shankar', 'Mohammad Nabi', 'T Natarajan'},\n",
       "       {'Rashid Khan', 'V Shankar', 'Mohammad Nabi', 'T Natarajan'},\n",
       "       {'Rashid Khan', 'V Shankar', 'T Natarajan', 'Mohammad Nabi', 'Sandeep Sharma'},\n",
       "       {'Rashid Khan', 'V Shankar', 'T Natarajan', 'Mohammad Nabi', 'Sandeep Sharma', 'B Kumar'},\n",
       "       {'Rashid Khan', 'T Natarajan', 'Mohammad Nabi', 'Sandeep Sharma', 'B Kumar'},\n",
       "       {'Rashid Khan', 'Mohammad Nabi', 'T Natarajan', 'Sandeep Sharma', 'B Kumar'},\n",
       "       {'Rashid Khan', 'T Natarajan', 'Mohammad Nabi', 'Sandeep Sharma', 'B Kumar'},\n",
       "       {'Rashid Khan', 'T Natarajan', 'Mohammad Nabi', 'Sandeep Sharma', 'B Kumar'},\n",
       "       {'Rashid Khan', 'T Natarajan', 'Mohammad Nabi', 'B Kumar'}],\n",
       "      dtype=object)"
      ]
     },
     "execution_count": 370,
     "metadata": {},
     "output_type": "execute_result"
    }
   ],
   "source": [
    "fd_inn1.bowlers.values"
   ]
  }
 ],
 "metadata": {
  "kernelspec": {
   "display_name": "Python 3",
   "language": "python",
   "name": "python3"
  },
  "language_info": {
   "codemirror_mode": {
    "name": "ipython",
    "version": 3
   },
   "file_extension": ".py",
   "mimetype": "text/x-python",
   "name": "python",
   "nbconvert_exporter": "python",
   "pygments_lexer": "ipython3",
   "version": "3.7.4"
  }
 },
 "nbformat": 4,
 "nbformat_minor": 2
}
