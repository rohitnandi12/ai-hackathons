{
 "cells": [
  {
   "cell_type": "markdown",
   "metadata": {},
   "source": [
    "Batting Metrics\n",
    "\n",
    "Hard Hitting Ability = (4*Fours + 6*Sixes) / Balls Played by Batsman\n",
    "\n",
    "Finisher = Not Out innings / Total Innings played\n",
    "\n",
    "Fast Scoring Ability = Total Runs / Balls Played by Batsman\n",
    "\n",
    "Consistency = Total Runs/Number of Times Out\n",
    "\n",
    "Running Between Wickets = (Total Runs – (4*Fours + 6*Sixes))/(Total Balls Played – Boundary Balls)\n",
    " \n",
    "\n",
    "\n",
    "Bowling Metrics\n",
    "\n",
    "Economy = Runs Scored / (Number of balls bowled by bowler/6)\n",
    "\n",
    "Wicket Taking Ability = Number of balls bowled / Wickets Taken\n",
    "\n",
    "Consistency = Runs Conceded / Wickets Taken\n",
    "\n",
    "Crucial Wicket Taking Ability = Number of times Four or Five Wickets Taken / Number of Innings Played\n",
    "\n",
    "Short Performance Index = (Wickets Taken – 4* Number of Times Four Wickets Taken – 5* Number of Times Five Wickets Taken) / (Innings Played – Number of Times Four Wickets or Five Wickets Taken)"
   ]
  },
  {
   "cell_type": "markdown",
   "metadata": {},
   "source": [
    "- Can you come up with a good evaluation metric for ranking players? In cricket, most of the time we compare batsmen to batsmen, and bowlers to bowlers. Can you come up with a unified metric for the value of a player? One way to do this would be to train an SVM that predicts which team will win only using the player statistics as input. And then the coefficients learnt by the SVM can be thought of as an evaluation metric.\n",
    "\n",
    "- When you are watching a cricket match, as the match goes along they keep showing the percentage chance of your country winning. And this number keeps updating after every ball. What's the best you can do at predicting the result of a game at various stages of the game?\n",
    "\n"
   ]
  },
  {
   "cell_type": "markdown",
   "metadata": {},
   "source": [
    "### New Features"
   ]
  },
  {
   "cell_type": "markdown",
   "metadata": {},
   "source": [
    "Number of wickets left\n",
    "\n",
    "Number of balls left\n",
    "\n",
    "On how much scores are the current batsman batting?\n",
    "\n",
    "How much the team had scored in last 5 overs?\n",
    "\n",
    "How much the team had lost wickets in last 5 overs?\n",
    "\n",
    "The nature of the pitch\n",
    "\n",
    "How strong is the batting and bowling team?"
   ]
  }
 ],
 "metadata": {
  "kernelspec": {
   "display_name": "Python 3",
   "language": "python",
   "name": "python3"
  },
  "language_info": {
   "codemirror_mode": {
    "name": "ipython",
    "version": 3
   },
   "file_extension": ".py",
   "mimetype": "text/x-python",
   "name": "python",
   "nbconvert_exporter": "python",
   "pygments_lexer": "ipython3",
   "version": "3.7.4"
  }
 },
 "nbformat": 4,
 "nbformat_minor": 2
}
