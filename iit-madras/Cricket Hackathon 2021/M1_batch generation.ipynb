{
 "cells": [
  {
   "cell_type": "code",
   "execution_count": 14,
   "metadata": {},
   "outputs": [],
   "source": [
    "import pandas as pd\n",
    "import numpy as np\n",
    "import plotly\n",
    "import plotly.graph_objects as go"
   ]
  },
  {
   "cell_type": "code",
   "execution_count": 15,
   "metadata": {},
   "outputs": [],
   "source": [
    "def value_consistency(col, existing_values, unik_value, data):\n",
    "    mask = data[col].isin(existing_values)\n",
    "    #update\n",
    "    data.loc[(mask), col] = unik_value\n"
   ]
  },
  {
   "cell_type": "code",
   "execution_count": 16,
   "metadata": {},
   "outputs": [],
   "source": [
    "def clean_df(df_raw):\n",
    "    # Venue\n",
    "    value_consistency('venue',['M Chinnaswamy Stadium', 'M.Chinnaswamy Stadium'], 'M Chinnaswamy Stadium', df_raw)\n",
    "    value_consistency('venue',['MA Chidambaram Stadium', 'MA Chidambaram Stadium, Chepauk',\n",
    "                                 'MA Chidambaram Stadium, Chepauk, Chennai'], 'MA Chidambaram Stadium, Chepauk', df_raw)\n",
    "    value_consistency('venue',['Punjab Cricket Association IS Bindra Stadium',\n",
    "           'Punjab Cricket Association IS Bindra Stadium, Mohali',\n",
    "           'Punjab Cricket Association Stadium, Mohali'], 'Punjab Cricket Association Stadium, Mohali', df_raw)\n",
    "    value_consistency('venue',['Rajiv Gandhi International Stadium',\n",
    "           'Rajiv Gandhi International Stadium, Uppal'], 'Rajiv Gandhi International Stadium, Uppal', df_raw)\n",
    "    value_consistency('venue',['Wankhede Stadium', 'Wankhede Stadium, Mumbai'], 'Wankhede Stadium', df_raw)\n",
    "    \n",
    "    df_raw.season = df_raw.season.map(str)\n",
    "    \n",
    "    value_consistency('batting_team', ['Delhi Capitals', 'Delhi Daredevils'], 'Delhi Capitals', df_raw)\n",
    "    value_consistency('batting_team', ['Pune Warriors','Rising Pune Supergiant', 'Rising Pune Supergiants'], 'Rising Pune Supergiant', df_raw)\n",
    "\n",
    "    value_consistency('bowling_team', ['Delhi Capitals', 'Delhi Daredevils'], 'Delhi Capitals', df_raw)\n",
    "    value_consistency('bowling_team', ['Pune Warriors','Rising Pune Supergiant', 'Rising Pune Supergiants'], 'Rising Pune Supergiant', df_raw)\n",
    "    \n",
    "    "
   ]
  },
  {
   "cell_type": "code",
   "execution_count": 17,
   "metadata": {},
   "outputs": [],
   "source": [
    "# Batting metrics calculation\n",
    "def count_4s(c):\n",
    "    return ((c == 4) | (c==5)).sum()\n",
    "\n",
    "def count_6s(c):\n",
    "    return (c == 6).sum()\n",
    "\n",
    "def get_balls_faced(c):\n",
    "    return c.shape[0]\n",
    "\n",
    "def get_wide_balls(c):\n",
    "    return int(c.notnull().sum())\n",
    "\n",
    "def get_total_runs(c):\n",
    "    return c.sum()\n",
    "\n",
    "def get_if_century(c):\n",
    "    return int(c.sum() >= 100)\n",
    "\n",
    "def get_if_half_century(c):\n",
    "    return int(50 <= c.sum() < 100)"
   ]
  },
  {
   "cell_type": "code",
   "execution_count": 18,
   "metadata": {},
   "outputs": [],
   "source": [
    "def bowler_wickets(s):\n",
    "    return (s.notnull() & s.isin(['caught', 'bowled', 'lbw', 'stumped', 'caught and bowled', 'hit wicket'])).sum()\n",
    "\n",
    "def get_if_3knocked(s):\n",
    "    w = bowler_wickets(s)\n",
    "    return int(w == 3)\n",
    "    \n",
    "def get_if_4knocked(s):\n",
    "    w = bowler_wickets(s)\n",
    "    return int(3 < w)\n",
    "\n",
    "def get_if_shortwickets(s):\n",
    "    w = bowler_wickets(s)\n",
    "    return int(w < 3)"
   ]
  },
  {
   "cell_type": "code",
   "execution_count": 19,
   "metadata": {},
   "outputs": [],
   "source": [
    "def transformFile(filename):\n",
    "    df = pd.read_csv('dataset/individual_match/'+filename)\n",
    "    \n",
    "    # Clean\n",
    "    clean_df(df)\n",
    "    \n",
    "    batsman_stats = df.groupby(['match_id', 'season', 'venue', 'innings','striker']).agg(\n",
    "        no_of_4s = ('runs_off_bat', count_4s),\n",
    "        no_of_6s = ('runs_off_bat', count_6s),\n",
    "        balls_faced = ('ball', get_balls_faced), # faced = played + wides\n",
    "        total_wides = ('wides', get_wide_balls),\n",
    "        total_runs = ('runs_off_bat', get_total_runs),\n",
    "        is_century = ('runs_off_bat', get_if_century),\n",
    "        is_half_century = ('runs_off_bat', get_if_half_century)\n",
    "    ).reset_index()\n",
    "    batsman_stats['balls_faced'] = batsman_stats['balls_faced'].astype('int')\n",
    "    batsman_stats['total_wides'] = batsman_stats['total_wides'].astype('int')\n",
    "        \n",
    "    batsman_stats['balls_played'] = batsman_stats.balls_faced - batsman_stats.total_wides\n",
    "    batsman_stats['hard_hit_rate'] = (batsman_stats.no_of_4s + batsman_stats.no_of_6s) / batsman_stats.balls_played\n",
    "    batsman_stats['fast_score_rate'] = (batsman_stats.total_runs / batsman_stats.balls_played)\n",
    "    batsman_stats['run_bw_wickets'] = (batsman_stats.total_runs - (batsman_stats.no_of_4s*4 + batsman_stats.no_of_6s*6)) / (batsman_stats.balls_played - (batsman_stats.no_of_4s + batsman_stats.no_of_6s))\n",
    "    \n",
    "    batsman_stats_to_keep = ['match_id', 'season', 'venue', 'innings', 'striker','is_century','is_half_century','run_bw_wickets', 'hard_hit_rate','fast_score_rate', 'balls_played']\n",
    "    batsman_stats = batsman_stats.loc[:, batsman_stats_to_keep]\n",
    "#     print('batsman_stats',filename,batsman_stats.shape)\n",
    "    \n",
    "    # Bowler\n",
    "    bowler_stats = df.groupby(['match_id', 'season', 'venue', 'innings','bowler']).agg(\n",
    "        runs_scored_bat = ('runs_off_bat', 'sum'),\n",
    "        runs_scored_extra = ('extras', 'sum'),\n",
    "        total_wides = ('wides', 'count'),\n",
    "        total_noballs = ('noballs', 'count'),\n",
    "        total_balls = ('ball', 'count'),\n",
    "        wickets_taken = ('wicket_type', bowler_wickets),\n",
    "        wiskets_3plus = ('wicket_type', get_if_3knocked),\n",
    "        wickets_4plus = ('wicket_type', get_if_4knocked),\n",
    "        wickets_shortIndex = ('wicket_type', get_if_shortwickets)\n",
    "    ).reset_index()\n",
    "\n",
    "    bowler_stats['economy'] = (bowler_stats.runs_scored_bat + bowler_stats.runs_scored_extra) / (bowler_stats.total_balls // 6)\n",
    "    bowler_stats['strike_rate'] = bowler_stats.total_balls / bowler_stats.wickets_taken\n",
    "    bowler_stats['bowling_average'] = (bowler_stats.runs_scored_bat + bowler_stats.runs_scored_extra) / bowler_stats.wickets_taken\n",
    "    bowler_stats['illegal_bowl_rate'] = (bowler_stats.total_wides + bowler_stats.total_noballs) / bowler_stats.total_balls\n",
    "\n",
    "    bowler_stats_to_keep =  ['match_id', 'season', 'venue', 'innings', 'bowler','illegal_bowl_rate','wiskets_3plus','wickets_4plus','wickets_shortIndex','economy','strike_rate', 'bowling_average']\n",
    "    bowler_stats = bowler_stats.loc[:, bowler_stats_to_keep]\n",
    "#     print('bowler_stats',filename,bowler_stats.shape)\n",
    "    \n",
    "    \n",
    "    batsman_stats.to_csv('dataset/individual_match_m1/mod_batsman_stats_'+filename, index=False, na_rep=\"NaN\")\n",
    "    bowler_stats.to_csv('dataset/individual_match_m1/mod_bowler_stats_'+filename, index=False, na_rep=\"NaN\")\n",
    "    \n",
    "    \n",
    "    "
   ]
  },
  {
   "cell_type": "markdown",
   "metadata": {},
   "source": [
    "## Actual Transformation"
   ]
  },
  {
   "cell_type": "code",
   "execution_count": 20,
   "metadata": {},
   "outputs": [
    {
     "name": "stdout",
     "output_type": "stream",
     "text": [
      "Total files failed  0\n"
     ]
    }
   ],
   "source": [
    "# assert False\n",
    "import os\n",
    "input_files = os.listdir('dataset/individual_match')\n",
    "count = 0\n",
    "for fileName in input_files:\n",
    "    try:\n",
    "        transformFile(fileName)\n",
    "        f_reload = pd.read_csv('dataset/individual_match_m1/mod_batsman_stats_'+fileName, index_col=None, header=0)\n",
    "        f_reload = pd.read_csv('dataset/individual_match_m1/mod_bowler_stats_'+fileName, index_col=None, header=0)\n",
    "    except RuntimeError as e:\n",
    "        print(e)\n",
    "        count += 1\n",
    "print(\"Total files failed \", count)"
   ]
  },
  {
   "cell_type": "markdown",
   "metadata": {},
   "source": [
    "### Merge all into One"
   ]
  },
  {
   "cell_type": "code",
   "execution_count": 21,
   "metadata": {},
   "outputs": [
    {
     "name": "stdout",
     "output_type": "stream",
     "text": [
      "(12269, 11)\n"
     ]
    }
   ],
   "source": [
    "# Merging all batsman\n",
    "import os\n",
    "mod_files = os.listdir('dataset/individual_match_m1')\n",
    "li = []\n",
    "for filename in mod_files:\n",
    "    if('batsman' not in filename):\n",
    "        continue\n",
    "    df = pd.read_csv('dataset/individual_match_m1/'+filename, index_col=None, header=0)\n",
    "    li.append(df)\n",
    "\n",
    "frame = pd.concat(li, axis=0, ignore_index=True)\n",
    "print(frame.shape)"
   ]
  },
  {
   "cell_type": "code",
   "execution_count": 22,
   "metadata": {},
   "outputs": [],
   "source": [
    "frame.to_csv('dataset/all_matches_m1_batsman.csv', index=False, na_rep=\"NaN\")"
   ]
  },
  {
   "cell_type": "code",
   "execution_count": 23,
   "metadata": {},
   "outputs": [
    {
     "name": "stdout",
     "output_type": "stream",
     "text": [
      "(9731, 12)\n"
     ]
    }
   ],
   "source": [
    "# Merging all batsman\n",
    "# assert False\n",
    "import os\n",
    "mod_files = os.listdir('dataset/individual_match_m1')\n",
    "li = []\n",
    "for filename in mod_files:\n",
    "    if('bowler' not in filename):\n",
    "        continue\n",
    "    df = pd.read_csv('dataset/individual_match_m1/'+filename, index_col=None, header=0)\n",
    "    li.append(df)\n",
    "\n",
    "frame = pd.concat(li, axis=0, ignore_index=True)\n",
    "print(frame.shape)"
   ]
  },
  {
   "cell_type": "code",
   "execution_count": 24,
   "metadata": {},
   "outputs": [],
   "source": [
    "frame.to_csv('dataset/all_matches_m1_bowler.csv', index=False, na_rep=\"NaN\")"
   ]
  },
  {
   "cell_type": "markdown",
   "metadata": {},
   "source": [
    "## Final Data Population"
   ]
  },
  {
   "cell_type": "code",
   "execution_count": 29,
   "metadata": {},
   "outputs": [
    {
     "name": "stdout",
     "output_type": "stream",
     "text": [
      "(194354, 22)\n"
     ]
    },
    {
     "data": {
      "text/plain": [
       "Index(['match_id', 'season', 'start_date', 'venue', 'innings', 'ball',\n",
       "       'batting_team', 'bowling_team', 'striker', 'non_striker', 'bowler',\n",
       "       'runs_off_bat', 'extras', 'wides', 'noballs', 'byes', 'legbyes',\n",
       "       'penalty', 'wicket_type', 'player_dismissed', 'other_wicket_type',\n",
       "       'other_player_dismissed'],\n",
       "      dtype='object')"
      ]
     },
     "execution_count": 29,
     "metadata": {},
     "output_type": "execute_result"
    }
   ],
   "source": [
    "df = pd.read_csv('dataset/all_matches.csv')\n",
    "print(df.shape)\n",
    "df.columns"
   ]
  },
  {
   "cell_type": "code",
   "execution_count": 43,
   "metadata": {},
   "outputs": [
    {
     "data": {
      "text/html": [
       "<div>\n",
       "<style scoped>\n",
       "    .dataframe tbody tr th:only-of-type {\n",
       "        vertical-align: middle;\n",
       "    }\n",
       "\n",
       "    .dataframe tbody tr th {\n",
       "        vertical-align: top;\n",
       "    }\n",
       "\n",
       "    .dataframe thead th {\n",
       "        text-align: right;\n",
       "    }\n",
       "</style>\n",
       "<table border=\"1\" class=\"dataframe\">\n",
       "  <thead>\n",
       "    <tr style=\"text-align: right;\">\n",
       "      <th></th>\n",
       "      <th>venue</th>\n",
       "      <th>innings</th>\n",
       "      <th>match_id</th>\n",
       "      <th>season</th>\n",
       "      <th>striker</th>\n",
       "      <th>bowler</th>\n",
       "      <th>balls</th>\n",
       "      <th>runs_bat</th>\n",
       "      <th>extras</th>\n",
       "    </tr>\n",
       "  </thead>\n",
       "  <tbody>\n",
       "    <tr>\n",
       "      <td>15554</td>\n",
       "      <td>M Chinnaswamy Stadium</td>\n",
       "      <td>2</td>\n",
       "      <td>335982</td>\n",
       "      <td>2007/08</td>\n",
       "      <td>JH Kallis</td>\n",
       "      <td>AB Agarkar</td>\n",
       "      <td>4</td>\n",
       "      <td>7</td>\n",
       "      <td>0</td>\n",
       "    </tr>\n",
       "  </tbody>\n",
       "</table>\n",
       "</div>"
      ],
      "text/plain": [
       "                       venue  innings  match_id   season    striker  \\\n",
       "15554  M Chinnaswamy Stadium        2    335982  2007/08  JH Kallis   \n",
       "\n",
       "           bowler  balls  runs_bat  extras  \n",
       "15554  AB Agarkar      4         7       0  "
      ]
     },
     "execution_count": 43,
     "metadata": {},
     "output_type": "execute_result"
    }
   ],
   "source": [
    "striker_bowler = df.groupby(['venue', 'innings', 'match_id','season', 'striker', 'bowler']).agg(\n",
    "    balls = ('ball', 'count'),\n",
    "    runs_bat = ('runs_off_bat', 'sum'),\n",
    "    extras = ('extras', 'sum'),\n",
    ").reset_index().sort_values(by='match_id')\n",
    "striker_bowler[:1]"
   ]
  },
  {
   "cell_type": "code",
   "execution_count": 45,
   "metadata": {},
   "outputs": [],
   "source": [
    "bowler_stats = pd.read_csv('dataset/all_matches_m1_bowler.csv')\n",
    "batsman_stats = pd.read_csv('dataset/all_matches_m1_batsman.csv')"
   ]
  },
  {
   "cell_type": "code",
   "execution_count": 87,
   "metadata": {},
   "outputs": [
    {
     "data": {
      "text/html": [
       "<div>\n",
       "<style scoped>\n",
       "    .dataframe tbody tr th:only-of-type {\n",
       "        vertical-align: middle;\n",
       "    }\n",
       "\n",
       "    .dataframe tbody tr th {\n",
       "        vertical-align: top;\n",
       "    }\n",
       "\n",
       "    .dataframe thead th {\n",
       "        text-align: right;\n",
       "    }\n",
       "</style>\n",
       "<table border=\"1\" class=\"dataframe\">\n",
       "  <thead>\n",
       "    <tr style=\"text-align: right;\">\n",
       "      <th></th>\n",
       "      <th>is_century</th>\n",
       "      <th>is_half_century</th>\n",
       "      <th>run_bw_wickets</th>\n",
       "      <th>hard_hit_rate</th>\n",
       "      <th>fast_score_rate</th>\n",
       "    </tr>\n",
       "  </thead>\n",
       "  <tbody>\n",
       "    <tr>\n",
       "      <td>1710</td>\n",
       "      <td>0</td>\n",
       "      <td>0</td>\n",
       "      <td>0.375000</td>\n",
       "      <td>0.000000</td>\n",
       "      <td>0.375000</td>\n",
       "    </tr>\n",
       "    <tr>\n",
       "      <td>1937</td>\n",
       "      <td>0</td>\n",
       "      <td>0</td>\n",
       "      <td>0.666667</td>\n",
       "      <td>0.000000</td>\n",
       "      <td>0.666667</td>\n",
       "    </tr>\n",
       "    <tr>\n",
       "      <td>3146</td>\n",
       "      <td>0</td>\n",
       "      <td>0</td>\n",
       "      <td>0.416667</td>\n",
       "      <td>0.076923</td>\n",
       "      <td>0.846154</td>\n",
       "    </tr>\n",
       "    <tr>\n",
       "      <td>4263</td>\n",
       "      <td>0</td>\n",
       "      <td>0</td>\n",
       "      <td>0.900000</td>\n",
       "      <td>0.166667</td>\n",
       "      <td>1.583333</td>\n",
       "    </tr>\n",
       "    <tr>\n",
       "      <td>5077</td>\n",
       "      <td>0</td>\n",
       "      <td>0</td>\n",
       "      <td>0.523810</td>\n",
       "      <td>0.045455</td>\n",
       "      <td>0.681818</td>\n",
       "    </tr>\n",
       "    <tr>\n",
       "      <td>6176</td>\n",
       "      <td>0</td>\n",
       "      <td>1</td>\n",
       "      <td>0.880000</td>\n",
       "      <td>0.218750</td>\n",
       "      <td>1.562500</td>\n",
       "    </tr>\n",
       "    <tr>\n",
       "      <td>8625</td>\n",
       "      <td>0</td>\n",
       "      <td>0</td>\n",
       "      <td>0.666667</td>\n",
       "      <td>0.142857</td>\n",
       "      <td>1.142857</td>\n",
       "    </tr>\n",
       "    <tr>\n",
       "      <td>8745</td>\n",
       "      <td>0</td>\n",
       "      <td>0</td>\n",
       "      <td>0.782609</td>\n",
       "      <td>0.041667</td>\n",
       "      <td>0.916667</td>\n",
       "    </tr>\n",
       "  </tbody>\n",
       "</table>\n",
       "</div>"
      ],
      "text/plain": [
       "      is_century  is_half_century  run_bw_wickets  hard_hit_rate  \\\n",
       "1710           0                0        0.375000       0.000000   \n",
       "1937           0                0        0.666667       0.000000   \n",
       "3146           0                0        0.416667       0.076923   \n",
       "4263           0                0        0.900000       0.166667   \n",
       "5077           0                0        0.523810       0.045455   \n",
       "6176           0                1        0.880000       0.218750   \n",
       "8625           0                0        0.666667       0.142857   \n",
       "8745           0                0        0.782609       0.041667   \n",
       "\n",
       "      fast_score_rate  \n",
       "1710         0.375000  \n",
       "1937         0.666667  \n",
       "3146         0.846154  \n",
       "4263         1.583333  \n",
       "5077         0.681818  \n",
       "6176         1.562500  \n",
       "8625         1.142857  \n",
       "8745         0.916667  "
      ]
     },
     "execution_count": 87,
     "metadata": {},
     "output_type": "execute_result"
    }
   ],
   "source": [
    "b = batsman_stats.query('striker == \"{0}\" and season == \"{1}\" and match_id < {2}'\n",
    "                        .format(\"V Kohli\",'2009', 392218)).drop(\n",
    "    ['striker','match_id','venue','season','innings', 'balls_played'], axis=1)\n",
    "b"
   ]
  },
  {
   "cell_type": "code",
   "execution_count": 79,
   "metadata": {},
   "outputs": [
    {
     "name": "stdout",
     "output_type": "stream",
     "text": [
      "venue       M Chinnaswamy Stadium\n",
      "innings                         2\n",
      "match_id                   335982\n",
      "season                    2007/08\n",
      "striker                 JH Kallis\n",
      "bowler                 AB Agarkar\n",
      "balls                           4\n",
      "runs_bat                        7\n",
      "extras                          0\n",
      "Name: 15554, dtype: object\n",
      "venue              M Chinnaswamy Stadium\n",
      "innings                                2\n",
      "match_id                          335982\n",
      "season                           2007/08\n",
      "striker                        JH Kallis\n",
      "bowler                        AB Agarkar\n",
      "balls                                  4\n",
      "runs_bat                               7\n",
      "extras                                 0\n",
      "is_century                             0\n",
      "is_half_century                    0.125\n",
      "run_bw_wickets                  0.651427\n",
      "hard_hit_rate                  0.0865398\n",
      "fast_score_rate                 0.971874\n",
      "dtype: object\n"
     ]
    }
   ],
   "source": [
    "for row in striker_bowler[:1].iterrows():\n",
    "    rf = row[1]\n",
    "    print(rf)\n",
    "    \n",
    "    bt = batsman_stats.query('striker == \"{0}\" and season == \"{1}\" and match_id < {2}'\n",
    "                             .format(rf.striker, rf.season, rf.match_id)).mean()\n",
    "    bo = bowler_stats.query('bowler == \"{0}\" and season == \"{1}\" and match_id < {2}'\n",
    "                             .format(rf.bowler, rf.season, rf.match_id)).mean()\n",
    "    \n",
    "    rf = rf.append(b[3:-1])\n",
    "    print(rf)"
   ]
  },
  {
   "cell_type": "code",
   "execution_count": 70,
   "metadata": {},
   "outputs": [
    {
     "ename": "AttributeError",
     "evalue": "'DataFrame' object has no attribute 'vstack'",
     "output_type": "error",
     "traceback": [
      "\u001b[0;31m---------------------------------------------------------------------------\u001b[0m",
      "\u001b[0;31mAttributeError\u001b[0m                            Traceback (most recent call last)",
      "\u001b[0;32m<ipython-input-70-3dd41eabc29b>\u001b[0m in \u001b[0;36m<module>\u001b[0;34m\u001b[0m\n\u001b[0;32m----> 1\u001b[0;31m \u001b[0mb\u001b[0m\u001b[0;34m.\u001b[0m\u001b[0mvstack\u001b[0m\u001b[0;34m(\u001b[0m\u001b[0mb\u001b[0m\u001b[0;34m)\u001b[0m\u001b[0;34m\u001b[0m\u001b[0;34m\u001b[0m\u001b[0m\n\u001b[0m",
      "\u001b[0;32m~/software/anaconda3/lib/python3.7/site-packages/pandas/core/generic.py\u001b[0m in \u001b[0;36m__getattr__\u001b[0;34m(self, name)\u001b[0m\n\u001b[1;32m   5177\u001b[0m             \u001b[0;32mif\u001b[0m \u001b[0mself\u001b[0m\u001b[0;34m.\u001b[0m\u001b[0m_info_axis\u001b[0m\u001b[0;34m.\u001b[0m\u001b[0m_can_hold_identifiers_and_holds_name\u001b[0m\u001b[0;34m(\u001b[0m\u001b[0mname\u001b[0m\u001b[0;34m)\u001b[0m\u001b[0;34m:\u001b[0m\u001b[0;34m\u001b[0m\u001b[0;34m\u001b[0m\u001b[0m\n\u001b[1;32m   5178\u001b[0m                 \u001b[0;32mreturn\u001b[0m \u001b[0mself\u001b[0m\u001b[0;34m[\u001b[0m\u001b[0mname\u001b[0m\u001b[0;34m]\u001b[0m\u001b[0;34m\u001b[0m\u001b[0;34m\u001b[0m\u001b[0m\n\u001b[0;32m-> 5179\u001b[0;31m             \u001b[0;32mreturn\u001b[0m \u001b[0mobject\u001b[0m\u001b[0;34m.\u001b[0m\u001b[0m__getattribute__\u001b[0m\u001b[0;34m(\u001b[0m\u001b[0mself\u001b[0m\u001b[0;34m,\u001b[0m \u001b[0mname\u001b[0m\u001b[0;34m)\u001b[0m\u001b[0;34m\u001b[0m\u001b[0;34m\u001b[0m\u001b[0m\n\u001b[0m\u001b[1;32m   5180\u001b[0m \u001b[0;34m\u001b[0m\u001b[0m\n\u001b[1;32m   5181\u001b[0m     \u001b[0;32mdef\u001b[0m \u001b[0m__setattr__\u001b[0m\u001b[0;34m(\u001b[0m\u001b[0mself\u001b[0m\u001b[0;34m,\u001b[0m \u001b[0mname\u001b[0m\u001b[0;34m,\u001b[0m \u001b[0mvalue\u001b[0m\u001b[0;34m)\u001b[0m\u001b[0;34m:\u001b[0m\u001b[0;34m\u001b[0m\u001b[0;34m\u001b[0m\u001b[0m\n",
      "\u001b[0;31mAttributeError\u001b[0m: 'DataFrame' object has no attribute 'vstack'"
     ]
    }
   ],
   "source": [
    "b.vstack(b)"
   ]
  }
 ],
 "metadata": {
  "kernelspec": {
   "display_name": "Python 3",
   "language": "python",
   "name": "python3"
  },
  "language_info": {
   "codemirror_mode": {
    "name": "ipython",
    "version": 3
   },
   "file_extension": ".py",
   "mimetype": "text/x-python",
   "name": "python",
   "nbconvert_exporter": "python",
   "pygments_lexer": "ipython3",
   "version": "3.7.4"
  }
 },
 "nbformat": 4,
 "nbformat_minor": 2
}
