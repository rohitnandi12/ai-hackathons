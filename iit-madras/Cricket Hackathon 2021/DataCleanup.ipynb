{
 "cells": [
  {
   "cell_type": "code",
   "execution_count": 168,
   "metadata": {},
   "outputs": [],
   "source": [
    "import pandas as pd\n",
    "import numpy as np\n",
    "import plotly\n",
    "import plotly.graph_objects as go"
   ]
  },
  {
   "cell_type": "code",
   "execution_count": 169,
   "metadata": {},
   "outputs": [
    {
     "name": "stdout",
     "output_type": "stream",
     "text": [
      "(194354, 22)\n"
     ]
    },
    {
     "data": {
      "text/plain": [
       "819"
      ]
     },
     "execution_count": 169,
     "metadata": {},
     "output_type": "execute_result"
    }
   ],
   "source": [
    "df_raw = pd.read_csv('dataset/all_matches.csv')\n",
    "print(df_raw.shape)\n",
    "df_raw.match_id.nunique()"
   ]
  },
  {
   "cell_type": "code",
   "execution_count": 170,
   "metadata": {},
   "outputs": [
    {
     "data": {
      "text/html": [
       "<div>\n",
       "<style scoped>\n",
       "    .dataframe tbody tr th:only-of-type {\n",
       "        vertical-align: middle;\n",
       "    }\n",
       "\n",
       "    .dataframe tbody tr th {\n",
       "        vertical-align: top;\n",
       "    }\n",
       "\n",
       "    .dataframe thead th {\n",
       "        text-align: right;\n",
       "    }\n",
       "</style>\n",
       "<table border=\"1\" class=\"dataframe\">\n",
       "  <thead>\n",
       "    <tr style=\"text-align: right;\">\n",
       "      <th></th>\n",
       "      <th>match_id</th>\n",
       "      <th>season</th>\n",
       "      <th>start_date</th>\n",
       "      <th>venue</th>\n",
       "      <th>innings</th>\n",
       "      <th>ball</th>\n",
       "      <th>batting_team</th>\n",
       "      <th>bowling_team</th>\n",
       "      <th>striker</th>\n",
       "      <th>non_striker</th>\n",
       "      <th>...</th>\n",
       "      <th>extras</th>\n",
       "      <th>wides</th>\n",
       "      <th>noballs</th>\n",
       "      <th>byes</th>\n",
       "      <th>legbyes</th>\n",
       "      <th>penalty</th>\n",
       "      <th>wicket_type</th>\n",
       "      <th>player_dismissed</th>\n",
       "      <th>other_wicket_type</th>\n",
       "      <th>other_player_dismissed</th>\n",
       "    </tr>\n",
       "  </thead>\n",
       "  <tbody>\n",
       "    <tr>\n",
       "      <td>5835</td>\n",
       "      <td>336006</td>\n",
       "      <td>2007/08</td>\n",
       "      <td>2008-05-05</td>\n",
       "      <td>M Chinnaswamy Stadium</td>\n",
       "      <td>2</td>\n",
       "      <td>3.1</td>\n",
       "      <td>Kings XI Punjab</td>\n",
       "      <td>Royal Challengers Bangalore</td>\n",
       "      <td>RR Sarwan</td>\n",
       "      <td>SE Marsh</td>\n",
       "      <td>...</td>\n",
       "      <td>0</td>\n",
       "      <td>NaN</td>\n",
       "      <td>NaN</td>\n",
       "      <td>NaN</td>\n",
       "      <td>NaN</td>\n",
       "      <td>NaN</td>\n",
       "      <td>NaN</td>\n",
       "      <td>NaN</td>\n",
       "      <td>NaN</td>\n",
       "      <td>NaN</td>\n",
       "    </tr>\n",
       "    <tr>\n",
       "      <td>40492</td>\n",
       "      <td>419161</td>\n",
       "      <td>2009/10</td>\n",
       "      <td>2010-04-19</td>\n",
       "      <td>Eden Gardens</td>\n",
       "      <td>1</td>\n",
       "      <td>12.3</td>\n",
       "      <td>Mumbai Indians</td>\n",
       "      <td>Kolkata Knight Riders</td>\n",
       "      <td>SS Tiwary</td>\n",
       "      <td>JP Duminy</td>\n",
       "      <td>...</td>\n",
       "      <td>0</td>\n",
       "      <td>NaN</td>\n",
       "      <td>NaN</td>\n",
       "      <td>NaN</td>\n",
       "      <td>NaN</td>\n",
       "      <td>NaN</td>\n",
       "      <td>NaN</td>\n",
       "      <td>NaN</td>\n",
       "      <td>NaN</td>\n",
       "      <td>NaN</td>\n",
       "    </tr>\n",
       "    <tr>\n",
       "      <td>170001</td>\n",
       "      <td>1136609</td>\n",
       "      <td>2018</td>\n",
       "      <td>2018-05-15</td>\n",
       "      <td>Eden Gardens</td>\n",
       "      <td>2</td>\n",
       "      <td>12.1</td>\n",
       "      <td>Kolkata Knight Riders</td>\n",
       "      <td>Rajasthan Royals</td>\n",
       "      <td>KD Karthik</td>\n",
       "      <td>CA Lynn</td>\n",
       "      <td>...</td>\n",
       "      <td>0</td>\n",
       "      <td>NaN</td>\n",
       "      <td>NaN</td>\n",
       "      <td>NaN</td>\n",
       "      <td>NaN</td>\n",
       "      <td>NaN</td>\n",
       "      <td>NaN</td>\n",
       "      <td>NaN</td>\n",
       "      <td>NaN</td>\n",
       "      <td>NaN</td>\n",
       "    </tr>\n",
       "    <tr>\n",
       "      <td>116700</td>\n",
       "      <td>829775</td>\n",
       "      <td>2015</td>\n",
       "      <td>2015-05-03</td>\n",
       "      <td>Punjab Cricket Association Stadium, Mohali</td>\n",
       "      <td>2</td>\n",
       "      <td>1.5</td>\n",
       "      <td>Kings XI Punjab</td>\n",
       "      <td>Mumbai Indians</td>\n",
       "      <td>M Vijay</td>\n",
       "      <td>GJ Maxwell</td>\n",
       "      <td>...</td>\n",
       "      <td>0</td>\n",
       "      <td>NaN</td>\n",
       "      <td>NaN</td>\n",
       "      <td>NaN</td>\n",
       "      <td>NaN</td>\n",
       "      <td>NaN</td>\n",
       "      <td>NaN</td>\n",
       "      <td>NaN</td>\n",
       "      <td>NaN</td>\n",
       "      <td>NaN</td>\n",
       "    </tr>\n",
       "  </tbody>\n",
       "</table>\n",
       "<p>4 rows × 22 columns</p>\n",
       "</div>"
      ],
      "text/plain": [
       "        match_id   season  start_date  \\\n",
       "5835      336006  2007/08  2008-05-05   \n",
       "40492     419161  2009/10  2010-04-19   \n",
       "170001   1136609     2018  2018-05-15   \n",
       "116700    829775     2015  2015-05-03   \n",
       "\n",
       "                                             venue  innings  ball  \\\n",
       "5835                         M Chinnaswamy Stadium        2   3.1   \n",
       "40492                                 Eden Gardens        1  12.3   \n",
       "170001                                Eden Gardens        2  12.1   \n",
       "116700  Punjab Cricket Association Stadium, Mohali        2   1.5   \n",
       "\n",
       "                 batting_team                 bowling_team     striker  \\\n",
       "5835          Kings XI Punjab  Royal Challengers Bangalore   RR Sarwan   \n",
       "40492          Mumbai Indians        Kolkata Knight Riders   SS Tiwary   \n",
       "170001  Kolkata Knight Riders             Rajasthan Royals  KD Karthik   \n",
       "116700        Kings XI Punjab               Mumbai Indians     M Vijay   \n",
       "\n",
       "       non_striker  ... extras  wides  noballs  byes  legbyes  penalty  \\\n",
       "5835      SE Marsh  ...      0    NaN      NaN   NaN      NaN      NaN   \n",
       "40492    JP Duminy  ...      0    NaN      NaN   NaN      NaN      NaN   \n",
       "170001     CA Lynn  ...      0    NaN      NaN   NaN      NaN      NaN   \n",
       "116700  GJ Maxwell  ...      0    NaN      NaN   NaN      NaN      NaN   \n",
       "\n",
       "        wicket_type  player_dismissed other_wicket_type other_player_dismissed  \n",
       "5835            NaN               NaN               NaN                    NaN  \n",
       "40492           NaN               NaN               NaN                    NaN  \n",
       "170001          NaN               NaN               NaN                    NaN  \n",
       "116700          NaN               NaN               NaN                    NaN  \n",
       "\n",
       "[4 rows x 22 columns]"
      ]
     },
     "execution_count": 170,
     "metadata": {},
     "output_type": "execute_result"
    }
   ],
   "source": [
    "df_raw.sample(4)"
   ]
  },
  {
   "cell_type": "markdown",
   "metadata": {},
   "source": [
    "## Venue"
   ]
  },
  {
   "cell_type": "code",
   "execution_count": 171,
   "metadata": {},
   "outputs": [
    {
     "data": {
      "text/plain": [
       "42"
      ]
     },
     "execution_count": 171,
     "metadata": {},
     "output_type": "execute_result"
    }
   ],
   "source": [
    "df_raw.venue.nunique()"
   ]
  },
  {
   "cell_type": "code",
   "execution_count": 172,
   "metadata": {},
   "outputs": [],
   "source": [
    "def value_consistency(col, existing_values, unik_value, data):\n",
    "    mask = data[col].isin(existing_values)\n",
    "    # old val\n",
    "    print(df_raw[mask][col].value_counts())\n",
    "    print(\"-------------------------------------------\")\n",
    "    #update\n",
    "    data.loc[(mask), col] = unik_value\n",
    "    #new val\n",
    "    print(df_raw[mask][col].value_counts())\n",
    "    print(\"--------------------------------------------------------------------------------\")"
   ]
  },
  {
   "cell_type": "code",
   "execution_count": 173,
   "metadata": {},
   "outputs": [
    {
     "name": "stdout",
     "output_type": "stream",
     "text": [
      "M Chinnaswamy Stadium    14907\n",
      "M.Chinnaswamy Stadium     3494\n",
      "Name: venue, dtype: int64\n",
      "-------------------------------------------\n",
      "M Chinnaswamy Stadium    18401\n",
      "Name: venue, dtype: int64\n",
      "--------------------------------------------------------------------------------\n",
      "MA Chidambaram Stadium, Chepauk             11760\n",
      "MA Chidambaram Stadium                       2130\n",
      "MA Chidambaram Stadium, Chepauk, Chennai      498\n",
      "Name: venue, dtype: int64\n",
      "-------------------------------------------\n",
      "MA Chidambaram Stadium, Chepauk    14388\n",
      "Name: venue, dtype: int64\n",
      "--------------------------------------------------------------------------------\n",
      "Punjab Cricket Association Stadium, Mohali              8266\n",
      "Punjab Cricket Association IS Bindra Stadium, Mohali    2574\n",
      "Punjab Cricket Association IS Bindra Stadium            2429\n",
      "Name: venue, dtype: int64\n",
      "-------------------------------------------\n",
      "Punjab Cricket Association Stadium, Mohali    13269\n",
      "Name: venue, dtype: int64\n",
      "--------------------------------------------------------------------------------\n",
      "Rajiv Gandhi International Stadium, Uppal    11604\n",
      "Rajiv Gandhi International Stadium            3609\n",
      "Name: venue, dtype: int64\n",
      "-------------------------------------------\n",
      "Rajiv Gandhi International Stadium, Uppal    15213\n",
      "Name: venue, dtype: int64\n",
      "--------------------------------------------------------------------------------\n",
      "Wankhede Stadium            17591\n",
      "Wankhede Stadium, Mumbai      239\n",
      "Name: venue, dtype: int64\n",
      "-------------------------------------------\n",
      "Wankhede Stadium    17830\n",
      "Name: venue, dtype: int64\n",
      "--------------------------------------------------------------------------------\n"
     ]
    }
   ],
   "source": [
    "value_consistency('venue',['M Chinnaswamy Stadium', 'M.Chinnaswamy Stadium'], 'M Chinnaswamy Stadium', df_raw)\n",
    "value_consistency('venue',['MA Chidambaram Stadium', 'MA Chidambaram Stadium, Chepauk',\n",
    "                             'MA Chidambaram Stadium, Chepauk, Chennai'], 'MA Chidambaram Stadium, Chepauk', df_raw)\n",
    "value_consistency('venue',['Punjab Cricket Association IS Bindra Stadium',\n",
    "       'Punjab Cricket Association IS Bindra Stadium, Mohali',\n",
    "       'Punjab Cricket Association Stadium, Mohali'], 'Punjab Cricket Association Stadium, Mohali', df_raw)\n",
    "value_consistency('venue',['Rajiv Gandhi International Stadium',\n",
    "       'Rajiv Gandhi International Stadium, Uppal'], 'Rajiv Gandhi International Stadium, Uppal', df_raw)\n",
    "value_consistency('venue',['Wankhede Stadium', 'Wankhede Stadium, Mumbai'], 'Wankhede Stadium', df_raw)"
   ]
  },
  {
   "cell_type": "code",
   "execution_count": 174,
   "metadata": {},
   "outputs": [
    {
     "data": {
      "text/plain": [
       "35"
      ]
     },
     "execution_count": 174,
     "metadata": {},
     "output_type": "execute_result"
    }
   ],
   "source": [
    "# sorted(df_raw.venue.unique())\n",
    "df_raw.venue.nunique()"
   ]
  },
  {
   "cell_type": "markdown",
   "metadata": {},
   "source": [
    "## Season"
   ]
  },
  {
   "cell_type": "code",
   "execution_count": 175,
   "metadata": {},
   "outputs": [
    {
     "name": "stdout",
     "output_type": "stream",
     "text": [
      "['2007/08' '2009' '2009/10' '2011' '2012' 2012 2013 2014 2015 2016 2017\n",
      " 2019 2018 '2018' '2019' '2020/21' '2021']\n",
      "['2007/08' '2009' '2009/10' '2011' '2012' '2013' '2014' '2015' '2016'\n",
      " '2017' '2019' '2018' '2020/21' '2021']\n"
     ]
    }
   ],
   "source": [
    "print(df_raw.season.unique())\n",
    "df_raw.season = df_raw.season.map(str)\n",
    "print(df_raw.season.unique())"
   ]
  },
  {
   "cell_type": "markdown",
   "metadata": {},
   "source": [
    "## batting_team"
   ]
  },
  {
   "cell_type": "code",
   "execution_count": 176,
   "metadata": {},
   "outputs": [
    {
     "name": "stdout",
     "output_type": "stream",
     "text": [
      "15\n"
     ]
    }
   ],
   "source": [
    "print(df_raw.batting_team.nunique())\n",
    "# sorted(df_raw.batting_team.unique())"
   ]
  },
  {
   "cell_type": "code",
   "execution_count": 177,
   "metadata": {},
   "outputs": [
    {
     "name": "stdout",
     "output_type": "stream",
     "text": [
      "Delhi Daredevils    18786\n",
      "Delhi Capitals       4133\n",
      "Name: batting_team, dtype: int64\n",
      "-------------------------------------------\n",
      "Delhi Capitals    22919\n",
      "Name: batting_team, dtype: int64\n",
      "--------------------------------------------------------------------------------\n",
      "Pune Warriors              5443\n",
      "Rising Pune Supergiant     1900\n",
      "Rising Pune Supergiants    1580\n",
      "Name: batting_team, dtype: int64\n",
      "-------------------------------------------\n",
      "Rising Pune Supergiant    8923\n",
      "Name: batting_team, dtype: int64\n",
      "--------------------------------------------------------------------------------\n"
     ]
    }
   ],
   "source": [
    "value_consistency('batting_team', ['Delhi Capitals', 'Delhi Daredevils'], 'Delhi Capitals', df_raw)\n",
    "value_consistency('batting_team', ['Pune Warriors','Rising Pune Supergiant', 'Rising Pune Supergiants'], 'Rising Pune Supergiant', df_raw)"
   ]
  },
  {
   "cell_type": "markdown",
   "metadata": {},
   "source": [
    "## bowling_team"
   ]
  },
  {
   "cell_type": "code",
   "execution_count": 178,
   "metadata": {},
   "outputs": [
    {
     "name": "stdout",
     "output_type": "stream",
     "text": [
      "15\n",
      "Delhi Daredevils    18725\n",
      "Delhi Capitals       4144\n",
      "Name: bowling_team, dtype: int64\n",
      "-------------------------------------------\n",
      "Delhi Capitals    22869\n",
      "Name: bowling_team, dtype: int64\n",
      "--------------------------------------------------------------------------------\n",
      "Pune Warriors              5457\n",
      "Rising Pune Supergiant     1928\n",
      "Rising Pune Supergiants    1615\n",
      "Name: bowling_team, dtype: int64\n",
      "-------------------------------------------\n",
      "Rising Pune Supergiant    9000\n",
      "Name: bowling_team, dtype: int64\n",
      "--------------------------------------------------------------------------------\n",
      "12\n"
     ]
    }
   ],
   "source": [
    "print(df_raw.bowling_team.nunique())\n",
    "team_consistency('bowling_team', ['Delhi Capitals', 'Delhi Daredevils'], 'Delhi Capitals', df_raw)\n",
    "team_consistency('bowling_team', ['Pune Warriors','Rising Pune Supergiant', 'Rising Pune Supergiants'], 'Rising Pune Supergiant', df_raw)\n",
    "print(df_raw.bowling_team.nunique())"
   ]
  },
  {
   "cell_type": "code",
   "execution_count": 179,
   "metadata": {
    "collapsed": true
   },
   "outputs": [
    {
     "ename": "AssertionError",
     "evalue": "",
     "output_type": "error",
     "traceback": [
      "\u001b[0;31m---------------------------------------------------------------------------\u001b[0m",
      "\u001b[0;31mAssertionError\u001b[0m                            Traceback (most recent call last)",
      "\u001b[0;32m<ipython-input-179-cba23a148563>\u001b[0m in \u001b[0;36m<module>\u001b[0;34m\u001b[0m\n\u001b[0;32m----> 1\u001b[0;31m \u001b[0;32massert\u001b[0m \u001b[0;32mFalse\u001b[0m\u001b[0;34m\u001b[0m\u001b[0;34m\u001b[0m\u001b[0m\n\u001b[0m\u001b[1;32m      2\u001b[0m \u001b[0mdf_raw\u001b[0m\u001b[0;34m.\u001b[0m\u001b[0mto_csv\u001b[0m\u001b[0;34m(\u001b[0m\u001b[0;34m'dataset/all_matches_clean.csv'\u001b[0m\u001b[0;34m)\u001b[0m\u001b[0;34m\u001b[0m\u001b[0;34m\u001b[0m\u001b[0m\n",
      "\u001b[0;31mAssertionError\u001b[0m: "
     ]
    }
   ],
   "source": [
    "assert False\n",
    "df_raw.to_csv('dataset/all_matches_clean.csv')"
   ]
  }
 ],
 "metadata": {
  "kernelspec": {
   "display_name": "Python 3",
   "language": "python",
   "name": "python3"
  },
  "language_info": {
   "codemirror_mode": {
    "name": "ipython",
    "version": 3
   },
   "file_extension": ".py",
   "mimetype": "text/x-python",
   "name": "python",
   "nbconvert_exporter": "python",
   "pygments_lexer": "ipython3",
   "version": "3.7.4"
  }
 },
 "nbformat": 4,
 "nbformat_minor": 2
}
