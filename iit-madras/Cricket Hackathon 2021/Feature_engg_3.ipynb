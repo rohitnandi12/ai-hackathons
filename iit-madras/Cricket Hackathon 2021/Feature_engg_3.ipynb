{
 "cells": [
  {
   "cell_type": "markdown",
   "metadata": {},
   "source": [
    "# Only 5th over score\n",
    "\n",
    "#### Feature list\n",
    "\n"
   ]
  },
  {
   "cell_type": "code",
   "execution_count": 1,
   "metadata": {},
   "outputs": [],
   "source": [
    "import pandas as pd\n",
    "import numpy as np\n",
    "import seaborn as sns\n",
    "import plotly\n",
    "import plotly.graph_objects as go"
   ]
  },
  {
   "cell_type": "code",
   "execution_count": 2,
   "metadata": {},
   "outputs": [
    {
     "name": "stdout",
     "output_type": "stream",
     "text": [
      "<class 'pandas.core.frame.DataFrame'>\n",
      "RangeIndex: 31481 entries, 0 to 31480\n",
      "Data columns (total 9 columns):\n",
      "match_id        31481 non-null float64\n",
      "over            31481 non-null float64\n",
      "venue           31481 non-null object\n",
      "innings         31481 non-null float64\n",
      "batting_team    31481 non-null object\n",
      "bowling_team    31481 non-null object\n",
      "batsmen         23305 non-null object\n",
      "bowlers         23305 non-null object\n",
      "runs            23305 non-null float64\n",
      "dtypes: float64(4), object(5)\n",
      "memory usage: 2.2+ MB\n"
     ]
    }
   ],
   "source": [
    "df = pd.read_csv('dataset/mod_all_matches.csv',delimiter='\\t', index_col=None, header=0)\n",
    "# (31481, 9)\n",
    "df.info()"
   ]
  },
  {
   "cell_type": "code",
   "execution_count": 9,
   "metadata": {},
   "outputs": [],
   "source": [
    "pp = df.query('over == 5').copy() #power play"
   ]
  },
  {
   "cell_type": "code",
   "execution_count": 6,
   "metadata": {},
   "outputs": [
    {
     "data": {
      "text/plain": [
       "Index(['match_id', 'over', 'venue', 'innings', 'batting_team', 'bowling_team',\n",
       "       'batsmen', 'bowlers', 'runs'],\n",
       "      dtype='object')"
      ]
     },
     "execution_count": 6,
     "metadata": {},
     "output_type": "execute_result"
    }
   ],
   "source": [
    "pp.columns"
   ]
  },
  {
   "cell_type": "code",
   "execution_count": 10,
   "metadata": {},
   "outputs": [],
   "source": [
    "pp.sort_values(by='match_id', inplace=True)"
   ]
  },
  {
   "cell_type": "code",
   "execution_count": 12,
   "metadata": {},
   "outputs": [
    {
     "data": {
      "text/html": [
       "<div>\n",
       "<style scoped>\n",
       "    .dataframe tbody tr th:only-of-type {\n",
       "        vertical-align: middle;\n",
       "    }\n",
       "\n",
       "    .dataframe tbody tr th {\n",
       "        vertical-align: top;\n",
       "    }\n",
       "\n",
       "    .dataframe thead th {\n",
       "        text-align: right;\n",
       "    }\n",
       "</style>\n",
       "<table border=\"1\" class=\"dataframe\">\n",
       "  <thead>\n",
       "    <tr style=\"text-align: right;\">\n",
       "      <th></th>\n",
       "    </tr>\n",
       "  </thead>\n",
       "  <tbody>\n",
       "  </tbody>\n",
       "</table>\n",
       "</div>"
      ],
      "text/plain": [
       "Empty DataFrame\n",
       "Columns: []\n",
       "Index: []"
      ]
     },
     "execution_count": 12,
     "metadata": {},
     "output_type": "execute_result"
    }
   ],
   "source": [
    "win_draw_loss = []\n",
    "def result(x):\n",
    "    try:\n",
    "#         print(x.shape)\n",
    "#         return\n",
    "        if(x.shape[0] == 1):\n",
    "            win_draw_loss.append(np.nan)\n",
    "#             print(x.match_id)\n",
    "            return\n",
    "\n",
    "        inn1 = x.query('innings == 1')\n",
    "        score_inn1 = (inn1.runs).iloc[0]\n",
    "        \n",
    "        inn2 = x.query('innings == 2')\n",
    "#         print(x.query('innings == 2'))\n",
    "#         print(inn2.runs_off_bat + inn2.extras)\n",
    "        score_inn2 = (inn2.runs).iloc[0]\n",
    "\n",
    "        if(score_inn1 == score_inn2):\n",
    "            win_draw_loss.append(np.nan)\n",
    "            win_draw_loss.append(np.nan)\n",
    "        elif(score_inn1 < score_inn2):\n",
    "            win_draw_loss.append('L')\n",
    "            win_draw_loss.append('W')\n",
    "        else:\n",
    "            win_draw_loss.append('W')\n",
    "            win_draw_loss.append('L')\n",
    "\n",
    "#         print(\"score1 = {} {} , score2 = {} {}\".format(score_inn1, win_draw_loss[-2], score_inn2, win_draw_loss[-1]))\n",
    "    except RuntimeError as e:\n",
    "        print(x)\n",
    "        print(e)\n",
    "        pass\n",
    "pp.groupby('match_id').apply(result)"
   ]
  },
  {
   "cell_type": "code",
   "execution_count": 13,
   "metadata": {},
   "outputs": [
    {
     "data": {
      "text/plain": [
       "(1630, 9)"
      ]
     },
     "execution_count": 13,
     "metadata": {},
     "output_type": "execute_result"
    }
   ],
   "source": [
    "pp.shape"
   ]
  },
  {
   "cell_type": "code",
   "execution_count": 14,
   "metadata": {},
   "outputs": [],
   "source": [
    "pp.loc[:,'result'] = win_draw_loss"
   ]
  },
  {
   "cell_type": "code",
   "execution_count": 15,
   "metadata": {},
   "outputs": [
    {
     "name": "stdout",
     "output_type": "stream",
     "text": [
      "L    0.513959\n",
      "W    0.486041\n",
      "Name: result, dtype: float64\n",
      "W    0.513959\n",
      "L    0.486041\n",
      "Name: result, dtype: float64\n"
     ]
    }
   ],
   "source": [
    "print(pp.query('innings == 1')['result'].value_counts(normalize=True))\n",
    "print(pp.query('innings == 2')['result'].value_counts(normalize=True))"
   ]
  },
  {
   "cell_type": "code",
   "execution_count": 14,
   "metadata": {},
   "outputs": [],
   "source": [
    "\n",
    "pp.to_csv('~/pwerplay.csv')"
   ]
  }
 ],
 "metadata": {
  "kernelspec": {
   "display_name": "Python 3",
   "language": "python",
   "name": "python3"
  },
  "language_info": {
   "codemirror_mode": {
    "name": "ipython",
    "version": 3
   },
   "file_extension": ".py",
   "mimetype": "text/x-python",
   "name": "python",
   "nbconvert_exporter": "python",
   "pygments_lexer": "ipython3",
   "version": "3.7.4"
  }
 },
 "nbformat": 4,
 "nbformat_minor": 2
}
