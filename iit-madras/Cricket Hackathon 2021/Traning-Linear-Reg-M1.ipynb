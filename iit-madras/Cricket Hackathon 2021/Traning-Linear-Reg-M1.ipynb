{
 "cells": [
  {
   "cell_type": "code",
   "execution_count": 1,
   "metadata": {},
   "outputs": [],
   "source": [
    "import pandas as pd\n",
    "import numpy as np\n",
    "import seaborn as sns\n",
    "import plotly\n",
    "import plotly.graph_objects as go"
   ]
  },
  {
   "cell_type": "code",
   "execution_count": 16,
   "metadata": {},
   "outputs": [
    {
     "name": "stdout",
     "output_type": "stream",
     "text": [
      "(40112, 22)\n",
      "<class 'pandas.core.frame.DataFrame'>\n",
      "RangeIndex: 40112 entries, 0 to 40111\n",
      "Data columns (total 22 columns):\n",
      "venue                 40112 non-null object\n",
      "innings               40112 non-null int64\n",
      "match_id              40112 non-null int64\n",
      "season                40112 non-null object\n",
      "striker               40112 non-null object\n",
      "bowler                40112 non-null object\n",
      "balls                 40112 non-null int64\n",
      "runs_bat              40112 non-null int64\n",
      "extras                40112 non-null int64\n",
      "is_century            40112 non-null float64\n",
      "is_half_century       40112 non-null float64\n",
      "balls_played          40112 non-null float64\n",
      "hard_hit_rate         34514 non-null float64\n",
      "fast_score_rate       34514 non-null float64\n",
      "run_bw_wickets        34498 non-null float64\n",
      "wiskets_3plus         40112 non-null float64\n",
      "wickets_4plus         40112 non-null float64\n",
      "wickets_shortIndex    40112 non-null float64\n",
      "economy               34357 non-null float64\n",
      "strike_rate           40112 non-null float64\n",
      "bowling_average       40112 non-null float64\n",
      "illegal_bowl_rate     34363 non-null float64\n",
      "dtypes: float64(13), int64(5), object(4)\n",
      "memory usage: 6.7+ MB\n"
     ]
    }
   ],
   "source": [
    "df = pd.read_csv('dataset/all_matches_m1_nn.csv', index_col=None, header=0)\n",
    "print(df.shape)\n",
    "df.info()"
   ]
  },
  {
   "cell_type": "code",
   "execution_count": 21,
   "metadata": {},
   "outputs": [],
   "source": [
    "df = df[df['innings'].isin([3,4,5,6]) == False]"
   ]
  },
  {
   "cell_type": "code",
   "execution_count": 22,
   "metadata": {},
   "outputs": [
    {
     "data": {
      "text/plain": [
       "(40050,)"
      ]
     },
     "execution_count": 22,
     "metadata": {},
     "output_type": "execute_result"
    }
   ],
   "source": [
    "Y = df['runs_bat'] + df['extras']\n",
    "Y.shape"
   ]
  },
  {
   "cell_type": "code",
   "execution_count": 38,
   "metadata": {},
   "outputs": [
    {
     "name": "stdout",
     "output_type": "stream",
     "text": [
      "(40050, 12)\n"
     ]
    },
    {
     "data": {
      "text/plain": [
       "Index(['is_century', 'is_half_century', 'hard_hit_rate', 'fast_score_rate',\n",
       "       'run_bw_wickets', 'wiskets_3plus', 'wickets_4plus',\n",
       "       'wickets_shortIndex', 'economy', 'strike_rate', 'bowling_average',\n",
       "       'illegal_bowl_rate'],\n",
       "      dtype='object')"
      ]
     },
     "execution_count": 38,
     "metadata": {},
     "output_type": "execute_result"
    }
   ],
   "source": [
    "X = df.drop(['venue','match_id','innings','season','balls', 'runs_bat', 'extras','balls_played', 'striker', 'bowler'], axis=1)\n",
    "print(X.shape)\n",
    "X.columns"
   ]
  },
  {
   "cell_type": "code",
   "execution_count": 39,
   "metadata": {},
   "outputs": [
    {
     "name": "stdout",
     "output_type": "stream",
     "text": [
      "(40050, 14)\n"
     ]
    },
    {
     "data": {
      "text/plain": [
       "Index(['is_century', 'is_half_century', 'hard_hit_rate', 'fast_score_rate',\n",
       "       'run_bw_wickets', 'wiskets_3plus', 'wickets_4plus',\n",
       "       'wickets_shortIndex', 'economy', 'strike_rate', 'bowling_average',\n",
       "       'illegal_bowl_rate', 'innings__1', 'innings__2'],\n",
       "      dtype='object')"
      ]
     },
     "execution_count": 39,
     "metadata": {},
     "output_type": "execute_result"
    }
   ],
   "source": [
    "X = X.merge(pd.get_dummies(df['innings'],prefix=\"innings_\"), left_index=True, right_index=True)\n",
    "print(X.shape)\n",
    "X.columns"
   ]
  },
  {
   "cell_type": "code",
   "execution_count": 40,
   "metadata": {},
   "outputs": [
    {
     "name": "stdout",
     "output_type": "stream",
     "text": [
      "(40050, 49)\n"
     ]
    },
    {
     "data": {
      "text/plain": [
       "Index(['is_century', 'is_half_century', 'hard_hit_rate', 'fast_score_rate',\n",
       "       'run_bw_wickets', 'wiskets_3plus', 'wickets_4plus',\n",
       "       'wickets_shortIndex', 'economy', 'strike_rate', 'bowling_average',\n",
       "       'illegal_bowl_rate', 'innings__1', 'innings__2',\n",
       "       'v__Arun Jaitley Stadium', 'v__Barabati Stadium',\n",
       "       'v__Brabourne Stadium', 'v__Buffalo Park', 'v__De Beers Diamond Oval',\n",
       "       'v__Dr DY Patil Sports Academy',\n",
       "       'v__Dr. Y.S. Rajasekhara Reddy ACA-VDCA Cricket Stadium',\n",
       "       'v__Dubai International Cricket Stadium', 'v__Eden Gardens',\n",
       "       'v__Feroz Shah Kotla', 'v__Green Park',\n",
       "       'v__Himachal Pradesh Cricket Association Stadium',\n",
       "       'v__Holkar Cricket Stadium', 'v__JSCA International Stadium Complex',\n",
       "       'v__Kingsmead', 'v__M Chinnaswamy Stadium',\n",
       "       'v__MA Chidambaram Stadium, Chepauk',\n",
       "       'v__Maharashtra Cricket Association Stadium', 'v__Nehru Stadium',\n",
       "       'v__New Wanderers Stadium', 'v__Newlands', 'v__OUTsurance Oval',\n",
       "       'v__Punjab Cricket Association Stadium, Mohali',\n",
       "       'v__Rajiv Gandhi International Stadium, Uppal',\n",
       "       'v__Sardar Patel Stadium, Motera',\n",
       "       'v__Saurashtra Cricket Association Stadium',\n",
       "       'v__Sawai Mansingh Stadium',\n",
       "       'v__Shaheed Veer Narayan Singh International Stadium',\n",
       "       'v__Sharjah Cricket Stadium', 'v__Sheikh Zayed Stadium',\n",
       "       'v__St George's Park', 'v__Subrata Roy Sahara Stadium',\n",
       "       'v__SuperSport Park', 'v__Vidarbha Cricket Association Stadium, Jamtha',\n",
       "       'v__Wankhede Stadium'],\n",
       "      dtype='object')"
      ]
     },
     "execution_count": 40,
     "metadata": {},
     "output_type": "execute_result"
    }
   ],
   "source": [
    "X = X.merge(pd.get_dummies(df['venue'],prefix=\"v_\"), left_index=True, right_index=True)\n",
    "print(X.shape)\n",
    "X.columns"
   ]
  },
  {
   "cell_type": "code",
   "execution_count": null,
   "metadata": {},
   "outputs": [],
   "source": []
  }
 ],
 "metadata": {
  "kernelspec": {
   "display_name": "Python 3",
   "language": "python",
   "name": "python3"
  },
  "language_info": {
   "codemirror_mode": {
    "name": "ipython",
    "version": 3
   },
   "file_extension": ".py",
   "mimetype": "text/x-python",
   "name": "python",
   "nbconvert_exporter": "python",
   "pygments_lexer": "ipython3",
   "version": "3.7.4"
  }
 },
 "nbformat": 4,
 "nbformat_minor": 2
}
